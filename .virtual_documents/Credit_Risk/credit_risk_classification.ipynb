# Import the modules
import numpy as np
import pandas as pd
from pathlib import Path
from sklearn.metrics import confusion_matrix, classification_report











# Read the CSV file from the Resources folder into a Pandas DataFrame
file_path = Path("../Resources/lending_data.csv")
df_lending = pd.read_csv(file_path)

# Review the DataFrame
df_lending.head()





# Separate the data into labels and features

# Separate the y variable, the labels
y = df_lending["loan_status"]

# Separate the X variable, the features
X = df_lending.drop(columns="loan_status")


# Review the y variable Series
y[:5]


# Review the X variable DataFrame
X[:5]





# Import the train_test_learn module
from sklearn.model_selection import train_test_split

# Split the data using train_test_split
## Assign a random_state of 1 to the function
X_train, X_test, y_train, y_test = train_test_split(X, y, random_state=1, stratify= y)











# Import the LogisticRegression module from SKLearn
from sklearn.linear_model import LogisticRegression

# Instantiate the Logistic Regression model
## Assign a random_state parameter of 1 to the model
loan_classifier = LogisticRegression(max_iter=200, random_state=1)

# Fit the model using training data
loan_classifier.fit(X_train, y_train)





# Make a prediction using the testing data
loan_predictions = loan_classifier.predict(X_test)
loan_predictions_df = pd.DataFrame({"Predictions": loan_predictions,
                                    "Actual" : y_test})

loan_predictions_df.head(10)





# Generate a confusion matrix for the model
confusion_matrix(y_test, loan_predictions)


# Note on interprting the confusion matrix:
## 18,679 cases were correctly predicted to be 0 (i.e., healthy loans) -> True Negatives (TN) 
## 558 cases were correctly predicted to be 1 (i.e., unhealthy loans) -> True Positives (TP) 
## 80 cases were incorrectly predicted to be 0 (i.e., healthy loans) when they were 1 (i.e., unhealthy loans) -> False Negatives (FN)
## 67 cases were incorrectly predicted to be 1 (i.e., unhealthy loans) when they were 0 (i.e., healthy loans) -> False Positives (FP)


# Print the classification report for the model
target_names=["Healthy Loans", "Unhealthy Loans"]
print(classification_report(y_test, loan_predictions, target_names = target_names))












